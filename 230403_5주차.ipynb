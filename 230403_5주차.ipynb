{
  "nbformat": 4,
  "nbformat_minor": 0,
  "metadata": {
    "colab": {
      "provenance": []
    },
    "kernelspec": {
      "name": "python3",
      "display_name": "Python 3"
    },
    "language_info": {
      "name": "python"
    }
  },
  "cells": [
    {
      "cell_type": "code",
      "execution_count": null,
      "metadata": {
        "colab": {
          "base_uri": "https://localhost:8080/"
        },
        "id": "H1s4wX7zvioZ",
        "outputId": "2064fd28-a636-4396-8fa7-665c4f2677d0"
      },
      "outputs": [
        {
          "output_type": "stream",
          "name": "stdout",
          "text": [
            "    사과\n",
            "key   \n",
            "엄마   5\n",
            "아빠   3\n",
            "나    1\n",
            "동생   2\n",
            "    바나나\n",
            "key    \n",
            "삼촌    3\n",
            "나     4\n",
            "동생    6\n",
            "이모    3\n"
          ]
        }
      ],
      "source": [
        "key1 = [\"엄마\",\"아빠\",\"나\",\"동생\"]\n",
        "val1 = [5,3,1,2]\n",
        "key2 = [\"삼촌\",\"나\",\"동생\",\"이모\"]\n",
        "val2 = [3,4,6,3]\n",
        "\n",
        "import pandas as pd\n",
        "df1 = pd.DataFrame([key1,val1]).T\n",
        "df1.columns = [\"key\",\"사과\"]\n",
        "df1 = df1.set_index('key')\n",
        "print(df1)\n",
        "\n",
        "df2 = pd.DataFrame([key2,val2]).T\n",
        "df2.columns = [\"key\",\"바나나\"]\n",
        "df2 = df2.set_index('key')\n",
        "print(df2)"
      ]
    },
    {
      "cell_type": "code",
      "source": [
        "df_ = pd.concat([df1,df2],axis = 1) # axis : 축 / 0 : 행 / 1: 열\n",
        "print(df_)"
      ],
      "metadata": {
        "colab": {
          "base_uri": "https://localhost:8080/"
        },
        "id": "fpRqzPu2x-X-",
        "outputId": "0b7957b1-2689-41e8-de12-b581b6efea14"
      },
      "execution_count": null,
      "outputs": [
        {
          "output_type": "stream",
          "name": "stdout",
          "text": [
            "      사과  바나나\n",
            "key          \n",
            "엄마     5  NaN\n",
            "아빠     3  NaN\n",
            "나      1    4\n",
            "동생     2    6\n",
            "삼촌   NaN    3\n",
            "이모   NaN    3\n"
          ]
        }
      ]
    },
    {
      "cell_type": "code",
      "source": [
        "df_0 = pd.concat([df1,df2],axis = 0)\n",
        "print(df_0)"
      ],
      "metadata": {
        "colab": {
          "base_uri": "https://localhost:8080/"
        },
        "id": "v-Y8Q6Zb0ihX",
        "outputId": "3bb32d9b-bb35-43f2-94dd-d832bc97df50"
      },
      "execution_count": null,
      "outputs": [
        {
          "output_type": "stream",
          "name": "stdout",
          "text": [
            "      사과  바나나\n",
            "key          \n",
            "엄마     5  NaN\n",
            "아빠     3  NaN\n",
            "나      1  NaN\n",
            "동생     2  NaN\n",
            "삼촌   NaN    3\n",
            "나    NaN    4\n",
            "동생   NaN    6\n",
            "이모   NaN    3\n"
          ]
        }
      ]
    },
    {
      "cell_type": "code",
      "source": [
        "df_ = pd.concat([df1,df2],axis = 0)\n",
        "print(df_.groupby(df_.index).sum()) # groupby는 연산 가능"
      ],
      "metadata": {
        "colab": {
          "base_uri": "https://localhost:8080/"
        },
        "id": "gjm2k7WEywvz",
        "outputId": "7056aca1-0f9e-458b-d8f6-9389d1693b31"
      },
      "execution_count": null,
      "outputs": [
        {
          "output_type": "stream",
          "name": "stdout",
          "text": [
            "     사과  바나나\n",
            "key         \n",
            "나     1    4\n",
            "동생    2    6\n",
            "삼촌    0    3\n",
            "아빠    3    0\n",
            "엄마    5    0\n",
            "이모    0    3\n"
          ]
        }
      ]
    },
    {
      "cell_type": "code",
      "source": [
        "print(df_.groupby(df_.index).mean()) # 평균\n",
        "print(df_.groupby(df_.index).max())  # 최대\n",
        "print(df_.groupby(df_.index).min())  # 최소"
      ],
      "metadata": {
        "colab": {
          "base_uri": "https://localhost:8080/"
        },
        "id": "kxnhEv7t1OI4",
        "outputId": "b8d15373-ba42-4818-f339-2c97b21d2e7b"
      },
      "execution_count": null,
      "outputs": [
        {
          "output_type": "stream",
          "name": "stdout",
          "text": [
            "      사과  바나나\n",
            "key          \n",
            "나    1.0  4.0\n",
            "동생   2.0  6.0\n",
            "삼촌   NaN  3.0\n",
            "아빠   3.0  NaN\n",
            "엄마   5.0  NaN\n",
            "이모   NaN  3.0\n",
            "      사과  바나나\n",
            "key          \n",
            "나    1.0  4.0\n",
            "동생   2.0  6.0\n",
            "삼촌   NaN  3.0\n",
            "아빠   3.0  NaN\n",
            "엄마   5.0  NaN\n",
            "이모   NaN  3.0\n",
            "      사과  바나나\n",
            "key          \n",
            "나    1.0  4.0\n",
            "동생   2.0  6.0\n",
            "삼촌   NaN  3.0\n",
            "아빠   3.0  NaN\n",
            "엄마   5.0  NaN\n",
            "이모   NaN  3.0\n"
          ]
        }
      ]
    },
    {
      "cell_type": "code",
      "source": [
        "df3 = pd.DataFrame([key2,val2]).T\n",
        "df3.columns = [\"key\",\"사과\"]\n",
        "df3 = df3.set_index('key')\n",
        "print(df3)"
      ],
      "metadata": {
        "colab": {
          "base_uri": "https://localhost:8080/"
        },
        "id": "KgkfvJAuzbSw",
        "outputId": "15b28861-9e37-4ed7-8aee-b32ebb5e168a"
      },
      "execution_count": null,
      "outputs": [
        {
          "output_type": "stream",
          "name": "stdout",
          "text": [
            "    사과\n",
            "key   \n",
            "삼촌   3\n",
            "나    4\n",
            "동생   6\n",
            "이모   3\n"
          ]
        }
      ]
    },
    {
      "cell_type": "code",
      "source": [
        "df = pd.concat([df1,df3],axis = 0)\n",
        "print(df)"
      ],
      "metadata": {
        "colab": {
          "base_uri": "https://localhost:8080/"
        },
        "id": "-YigX9OQz68T",
        "outputId": "15da19bb-1a7f-4dad-c484-59f733a5ada7"
      },
      "execution_count": null,
      "outputs": [
        {
          "output_type": "stream",
          "name": "stdout",
          "text": [
            "    사과\n",
            "key   \n",
            "엄마   5\n",
            "아빠   3\n",
            "나    1\n",
            "동생   2\n",
            "삼촌   3\n",
            "나    4\n",
            "동생   6\n",
            "이모   3\n"
          ]
        }
      ]
    },
    {
      "cell_type": "code",
      "source": [
        "print(df.groupby(df.index).sum())"
      ],
      "metadata": {
        "colab": {
          "base_uri": "https://localhost:8080/"
        },
        "id": "IKn26dMpz_PW",
        "outputId": "996f56a3-5c72-430e-ef3c-48f184c03661"
      },
      "execution_count": null,
      "outputs": [
        {
          "output_type": "stream",
          "name": "stdout",
          "text": [
            "     사과\n",
            "key    \n",
            "나     5\n",
            "동생    8\n",
            "삼촌    3\n",
            "아빠    3\n",
            "엄마    5\n",
            "이모    3\n"
          ]
        }
      ]
    },
    {
      "cell_type": "markdown",
      "source": [
        "### NASA TEMP DATA & GDP DATA"
      ],
      "metadata": {
        "id": "pH6TknGBAMYI"
      }
    },
    {
      "cell_type": "code",
      "source": [
        "df_temp = pd.read_csv(\"/content/drive/MyDrive/빅데이터와 인공지능/graph.csv\",header=None)\n",
        "df_temp.head()"
      ],
      "metadata": {
        "colab": {
          "base_uri": "https://localhost:8080/",
          "height": 206
        },
        "id": "CsziH7HI0Wdq",
        "outputId": "a2689e9f-df1e-488a-a917-96f71a1934ef"
      },
      "execution_count": null,
      "outputs": [
        {
          "output_type": "execute_result",
          "data": {
            "text/plain": [
              "                          0\n",
              "0  1880     -0.17     -0.09\n",
              "1  1881     -0.08     -0.13\n",
              "2  1882     -0.11     -0.17\n",
              "3  1883     -0.17     -0.20\n",
              "4  1884     -0.28     -0.24"
            ],
            "text/html": [
              "\n",
              "  <div id=\"df-d4265ab6-b4dd-45c4-947d-afa97fe5b187\">\n",
              "    <div class=\"colab-df-container\">\n",
              "      <div>\n",
              "<style scoped>\n",
              "    .dataframe tbody tr th:only-of-type {\n",
              "        vertical-align: middle;\n",
              "    }\n",
              "\n",
              "    .dataframe tbody tr th {\n",
              "        vertical-align: top;\n",
              "    }\n",
              "\n",
              "    .dataframe thead th {\n",
              "        text-align: right;\n",
              "    }\n",
              "</style>\n",
              "<table border=\"1\" class=\"dataframe\">\n",
              "  <thead>\n",
              "    <tr style=\"text-align: right;\">\n",
              "      <th></th>\n",
              "      <th>0</th>\n",
              "    </tr>\n",
              "  </thead>\n",
              "  <tbody>\n",
              "    <tr>\n",
              "      <th>0</th>\n",
              "      <td>1880     -0.17     -0.09</td>\n",
              "    </tr>\n",
              "    <tr>\n",
              "      <th>1</th>\n",
              "      <td>1881     -0.08     -0.13</td>\n",
              "    </tr>\n",
              "    <tr>\n",
              "      <th>2</th>\n",
              "      <td>1882     -0.11     -0.17</td>\n",
              "    </tr>\n",
              "    <tr>\n",
              "      <th>3</th>\n",
              "      <td>1883     -0.17     -0.20</td>\n",
              "    </tr>\n",
              "    <tr>\n",
              "      <th>4</th>\n",
              "      <td>1884     -0.28     -0.24</td>\n",
              "    </tr>\n",
              "  </tbody>\n",
              "</table>\n",
              "</div>\n",
              "      <button class=\"colab-df-convert\" onclick=\"convertToInteractive('df-d4265ab6-b4dd-45c4-947d-afa97fe5b187')\"\n",
              "              title=\"Convert this dataframe to an interactive table.\"\n",
              "              style=\"display:none;\">\n",
              "        \n",
              "  <svg xmlns=\"http://www.w3.org/2000/svg\" height=\"24px\"viewBox=\"0 0 24 24\"\n",
              "       width=\"24px\">\n",
              "    <path d=\"M0 0h24v24H0V0z\" fill=\"none\"/>\n",
              "    <path d=\"M18.56 5.44l.94 2.06.94-2.06 2.06-.94-2.06-.94-.94-2.06-.94 2.06-2.06.94zm-11 1L8.5 8.5l.94-2.06 2.06-.94-2.06-.94L8.5 2.5l-.94 2.06-2.06.94zm10 10l.94 2.06.94-2.06 2.06-.94-2.06-.94-.94-2.06-.94 2.06-2.06.94z\"/><path d=\"M17.41 7.96l-1.37-1.37c-.4-.4-.92-.59-1.43-.59-.52 0-1.04.2-1.43.59L10.3 9.45l-7.72 7.72c-.78.78-.78 2.05 0 2.83L4 21.41c.39.39.9.59 1.41.59.51 0 1.02-.2 1.41-.59l7.78-7.78 2.81-2.81c.8-.78.8-2.07 0-2.86zM5.41 20L4 18.59l7.72-7.72 1.47 1.35L5.41 20z\"/>\n",
              "  </svg>\n",
              "      </button>\n",
              "      \n",
              "  <style>\n",
              "    .colab-df-container {\n",
              "      display:flex;\n",
              "      flex-wrap:wrap;\n",
              "      gap: 12px;\n",
              "    }\n",
              "\n",
              "    .colab-df-convert {\n",
              "      background-color: #E8F0FE;\n",
              "      border: none;\n",
              "      border-radius: 50%;\n",
              "      cursor: pointer;\n",
              "      display: none;\n",
              "      fill: #1967D2;\n",
              "      height: 32px;\n",
              "      padding: 0 0 0 0;\n",
              "      width: 32px;\n",
              "    }\n",
              "\n",
              "    .colab-df-convert:hover {\n",
              "      background-color: #E2EBFA;\n",
              "      box-shadow: 0px 1px 2px rgba(60, 64, 67, 0.3), 0px 1px 3px 1px rgba(60, 64, 67, 0.15);\n",
              "      fill: #174EA6;\n",
              "    }\n",
              "\n",
              "    [theme=dark] .colab-df-convert {\n",
              "      background-color: #3B4455;\n",
              "      fill: #D2E3FC;\n",
              "    }\n",
              "\n",
              "    [theme=dark] .colab-df-convert:hover {\n",
              "      background-color: #434B5C;\n",
              "      box-shadow: 0px 1px 3px 1px rgba(0, 0, 0, 0.15);\n",
              "      filter: drop-shadow(0px 1px 2px rgba(0, 0, 0, 0.3));\n",
              "      fill: #FFFFFF;\n",
              "    }\n",
              "  </style>\n",
              "\n",
              "      <script>\n",
              "        const buttonEl =\n",
              "          document.querySelector('#df-d4265ab6-b4dd-45c4-947d-afa97fe5b187 button.colab-df-convert');\n",
              "        buttonEl.style.display =\n",
              "          google.colab.kernel.accessAllowed ? 'block' : 'none';\n",
              "\n",
              "        async function convertToInteractive(key) {\n",
              "          const element = document.querySelector('#df-d4265ab6-b4dd-45c4-947d-afa97fe5b187');\n",
              "          const dataTable =\n",
              "            await google.colab.kernel.invokeFunction('convertToInteractive',\n",
              "                                                     [key], {});\n",
              "          if (!dataTable) return;\n",
              "\n",
              "          const docLinkHtml = 'Like what you see? Visit the ' +\n",
              "            '<a target=\"_blank\" href=https://colab.research.google.com/notebooks/data_table.ipynb>data table notebook</a>'\n",
              "            + ' to learn more about interactive tables.';\n",
              "          element.innerHTML = '';\n",
              "          dataTable['output_type'] = 'display_data';\n",
              "          await google.colab.output.renderOutput(dataTable, element);\n",
              "          const docLink = document.createElement('div');\n",
              "          docLink.innerHTML = docLinkHtml;\n",
              "          element.appendChild(docLink);\n",
              "        }\n",
              "      </script>\n",
              "    </div>\n",
              "  </div>\n",
              "  "
            ]
          },
          "metadata": {},
          "execution_count": 19
        }
      ]
    },
    {
      "cell_type": "code",
      "source": [
        "df_gdp = pd.read_csv(\"/content/drive/MyDrive/빅데이터와 인공지능/API_NY.GDP.MKTP.CD_DS2_en_csv_v2_5358352.csv\")\n",
        "df_gdp.head()"
      ],
      "metadata": {
        "colab": {
          "base_uri": "https://localhost:8080/",
          "height": 490
        },
        "id": "x_Jkjfjb-iah",
        "outputId": "cc8ce58e-0119-4fca-e3f5-5fe111fbdc83"
      },
      "execution_count": null,
      "outputs": [
        {
          "output_type": "execute_result",
          "data": {
            "text/plain": [
              "                  Country Name Country Code     Indicator Name  \\\n",
              "0                        Aruba          ABW  GDP (current US$)   \n",
              "1  Africa Eastern and Southern          AFE  GDP (current US$)   \n",
              "2                  Afghanistan          AFG  GDP (current US$)   \n",
              "3   Africa Western and Central          AFW  GDP (current US$)   \n",
              "4                       Angola          AGO  GDP (current US$)   \n",
              "\n",
              "   Indicator Code          1960          1961          1962          1963  \\\n",
              "0  NY.GDP.MKTP.CD           NaN           NaN           NaN           NaN   \n",
              "1  NY.GDP.MKTP.CD  2.129150e+10  2.180940e+10  2.370810e+10  2.821130e+10   \n",
              "2  NY.GDP.MKTP.CD  5.377778e+08  5.488889e+08  5.466667e+08  7.511112e+08   \n",
              "3  NY.GDP.MKTP.CD  1.040410e+10  1.112790e+10  1.194320e+10  1.267630e+10   \n",
              "4  NY.GDP.MKTP.CD           NaN           NaN           NaN           NaN   \n",
              "\n",
              "           1964          1965  ...          2012          2013          2014  \\\n",
              "0           NaN           NaN  ...  2.615084e+09  2.727933e+09  2.791061e+09   \n",
              "1  2.611990e+10  2.968350e+10  ...  9.720020e+11  9.826770e+11  1.003400e+12   \n",
              "2  8.000000e+08  1.006667e+09  ...  2.020360e+10  2.056450e+10  2.055060e+10   \n",
              "3  1.383840e+10  1.486220e+10  ...  7.360400e+11  8.322170e+11  8.924980e+11   \n",
              "4           NaN           NaN  ...  1.249980e+11  1.334020e+11  1.372440e+11   \n",
              "\n",
              "           2015          2016          2017          2018          2019  \\\n",
              "0  2.963128e+09  2.983799e+09  3.092179e+09  3.202235e+09  3.368970e+09   \n",
              "1  9.231440e+11  8.898590e+11  1.030480e+12  1.016700e+12  1.009050e+12   \n",
              "2  1.999820e+10  1.801960e+10  1.889640e+10  1.841880e+10  1.890450e+10   \n",
              "3  7.669580e+11  6.905450e+11  6.837480e+11  7.663600e+11  7.947190e+11   \n",
              "4  8.721930e+10  4.984050e+10  6.897280e+10  7.779290e+10  6.930910e+10   \n",
              "\n",
              "           2020          2021  \n",
              "0  2.610039e+09  3.126019e+09  \n",
              "1  9.341790e+11  1.089450e+12  \n",
              "2  2.014340e+10  1.478690e+10  \n",
              "3  7.848000e+11  8.401870e+11  \n",
              "4  5.361910e+10  6.740430e+10  \n",
              "\n",
              "[5 rows x 66 columns]"
            ],
            "text/html": [
              "\n",
              "  <div id=\"df-5eb7f006-9fbb-47f9-9dd5-befd5ec6672c\">\n",
              "    <div class=\"colab-df-container\">\n",
              "      <div>\n",
              "<style scoped>\n",
              "    .dataframe tbody tr th:only-of-type {\n",
              "        vertical-align: middle;\n",
              "    }\n",
              "\n",
              "    .dataframe tbody tr th {\n",
              "        vertical-align: top;\n",
              "    }\n",
              "\n",
              "    .dataframe thead th {\n",
              "        text-align: right;\n",
              "    }\n",
              "</style>\n",
              "<table border=\"1\" class=\"dataframe\">\n",
              "  <thead>\n",
              "    <tr style=\"text-align: right;\">\n",
              "      <th></th>\n",
              "      <th>Country Name</th>\n",
              "      <th>Country Code</th>\n",
              "      <th>Indicator Name</th>\n",
              "      <th>Indicator Code</th>\n",
              "      <th>1960</th>\n",
              "      <th>1961</th>\n",
              "      <th>1962</th>\n",
              "      <th>1963</th>\n",
              "      <th>1964</th>\n",
              "      <th>1965</th>\n",
              "      <th>...</th>\n",
              "      <th>2012</th>\n",
              "      <th>2013</th>\n",
              "      <th>2014</th>\n",
              "      <th>2015</th>\n",
              "      <th>2016</th>\n",
              "      <th>2017</th>\n",
              "      <th>2018</th>\n",
              "      <th>2019</th>\n",
              "      <th>2020</th>\n",
              "      <th>2021</th>\n",
              "    </tr>\n",
              "  </thead>\n",
              "  <tbody>\n",
              "    <tr>\n",
              "      <th>0</th>\n",
              "      <td>Aruba</td>\n",
              "      <td>ABW</td>\n",
              "      <td>GDP (current US$)</td>\n",
              "      <td>NY.GDP.MKTP.CD</td>\n",
              "      <td>NaN</td>\n",
              "      <td>NaN</td>\n",
              "      <td>NaN</td>\n",
              "      <td>NaN</td>\n",
              "      <td>NaN</td>\n",
              "      <td>NaN</td>\n",
              "      <td>...</td>\n",
              "      <td>2.615084e+09</td>\n",
              "      <td>2.727933e+09</td>\n",
              "      <td>2.791061e+09</td>\n",
              "      <td>2.963128e+09</td>\n",
              "      <td>2.983799e+09</td>\n",
              "      <td>3.092179e+09</td>\n",
              "      <td>3.202235e+09</td>\n",
              "      <td>3.368970e+09</td>\n",
              "      <td>2.610039e+09</td>\n",
              "      <td>3.126019e+09</td>\n",
              "    </tr>\n",
              "    <tr>\n",
              "      <th>1</th>\n",
              "      <td>Africa Eastern and Southern</td>\n",
              "      <td>AFE</td>\n",
              "      <td>GDP (current US$)</td>\n",
              "      <td>NY.GDP.MKTP.CD</td>\n",
              "      <td>2.129150e+10</td>\n",
              "      <td>2.180940e+10</td>\n",
              "      <td>2.370810e+10</td>\n",
              "      <td>2.821130e+10</td>\n",
              "      <td>2.611990e+10</td>\n",
              "      <td>2.968350e+10</td>\n",
              "      <td>...</td>\n",
              "      <td>9.720020e+11</td>\n",
              "      <td>9.826770e+11</td>\n",
              "      <td>1.003400e+12</td>\n",
              "      <td>9.231440e+11</td>\n",
              "      <td>8.898590e+11</td>\n",
              "      <td>1.030480e+12</td>\n",
              "      <td>1.016700e+12</td>\n",
              "      <td>1.009050e+12</td>\n",
              "      <td>9.341790e+11</td>\n",
              "      <td>1.089450e+12</td>\n",
              "    </tr>\n",
              "    <tr>\n",
              "      <th>2</th>\n",
              "      <td>Afghanistan</td>\n",
              "      <td>AFG</td>\n",
              "      <td>GDP (current US$)</td>\n",
              "      <td>NY.GDP.MKTP.CD</td>\n",
              "      <td>5.377778e+08</td>\n",
              "      <td>5.488889e+08</td>\n",
              "      <td>5.466667e+08</td>\n",
              "      <td>7.511112e+08</td>\n",
              "      <td>8.000000e+08</td>\n",
              "      <td>1.006667e+09</td>\n",
              "      <td>...</td>\n",
              "      <td>2.020360e+10</td>\n",
              "      <td>2.056450e+10</td>\n",
              "      <td>2.055060e+10</td>\n",
              "      <td>1.999820e+10</td>\n",
              "      <td>1.801960e+10</td>\n",
              "      <td>1.889640e+10</td>\n",
              "      <td>1.841880e+10</td>\n",
              "      <td>1.890450e+10</td>\n",
              "      <td>2.014340e+10</td>\n",
              "      <td>1.478690e+10</td>\n",
              "    </tr>\n",
              "    <tr>\n",
              "      <th>3</th>\n",
              "      <td>Africa Western and Central</td>\n",
              "      <td>AFW</td>\n",
              "      <td>GDP (current US$)</td>\n",
              "      <td>NY.GDP.MKTP.CD</td>\n",
              "      <td>1.040410e+10</td>\n",
              "      <td>1.112790e+10</td>\n",
              "      <td>1.194320e+10</td>\n",
              "      <td>1.267630e+10</td>\n",
              "      <td>1.383840e+10</td>\n",
              "      <td>1.486220e+10</td>\n",
              "      <td>...</td>\n",
              "      <td>7.360400e+11</td>\n",
              "      <td>8.322170e+11</td>\n",
              "      <td>8.924980e+11</td>\n",
              "      <td>7.669580e+11</td>\n",
              "      <td>6.905450e+11</td>\n",
              "      <td>6.837480e+11</td>\n",
              "      <td>7.663600e+11</td>\n",
              "      <td>7.947190e+11</td>\n",
              "      <td>7.848000e+11</td>\n",
              "      <td>8.401870e+11</td>\n",
              "    </tr>\n",
              "    <tr>\n",
              "      <th>4</th>\n",
              "      <td>Angola</td>\n",
              "      <td>AGO</td>\n",
              "      <td>GDP (current US$)</td>\n",
              "      <td>NY.GDP.MKTP.CD</td>\n",
              "      <td>NaN</td>\n",
              "      <td>NaN</td>\n",
              "      <td>NaN</td>\n",
              "      <td>NaN</td>\n",
              "      <td>NaN</td>\n",
              "      <td>NaN</td>\n",
              "      <td>...</td>\n",
              "      <td>1.249980e+11</td>\n",
              "      <td>1.334020e+11</td>\n",
              "      <td>1.372440e+11</td>\n",
              "      <td>8.721930e+10</td>\n",
              "      <td>4.984050e+10</td>\n",
              "      <td>6.897280e+10</td>\n",
              "      <td>7.779290e+10</td>\n",
              "      <td>6.930910e+10</td>\n",
              "      <td>5.361910e+10</td>\n",
              "      <td>6.740430e+10</td>\n",
              "    </tr>\n",
              "  </tbody>\n",
              "</table>\n",
              "<p>5 rows × 66 columns</p>\n",
              "</div>\n",
              "      <button class=\"colab-df-convert\" onclick=\"convertToInteractive('df-5eb7f006-9fbb-47f9-9dd5-befd5ec6672c')\"\n",
              "              title=\"Convert this dataframe to an interactive table.\"\n",
              "              style=\"display:none;\">\n",
              "        \n",
              "  <svg xmlns=\"http://www.w3.org/2000/svg\" height=\"24px\"viewBox=\"0 0 24 24\"\n",
              "       width=\"24px\">\n",
              "    <path d=\"M0 0h24v24H0V0z\" fill=\"none\"/>\n",
              "    <path d=\"M18.56 5.44l.94 2.06.94-2.06 2.06-.94-2.06-.94-.94-2.06-.94 2.06-2.06.94zm-11 1L8.5 8.5l.94-2.06 2.06-.94-2.06-.94L8.5 2.5l-.94 2.06-2.06.94zm10 10l.94 2.06.94-2.06 2.06-.94-2.06-.94-.94-2.06-.94 2.06-2.06.94z\"/><path d=\"M17.41 7.96l-1.37-1.37c-.4-.4-.92-.59-1.43-.59-.52 0-1.04.2-1.43.59L10.3 9.45l-7.72 7.72c-.78.78-.78 2.05 0 2.83L4 21.41c.39.39.9.59 1.41.59.51 0 1.02-.2 1.41-.59l7.78-7.78 2.81-2.81c.8-.78.8-2.07 0-2.86zM5.41 20L4 18.59l7.72-7.72 1.47 1.35L5.41 20z\"/>\n",
              "  </svg>\n",
              "      </button>\n",
              "      \n",
              "  <style>\n",
              "    .colab-df-container {\n",
              "      display:flex;\n",
              "      flex-wrap:wrap;\n",
              "      gap: 12px;\n",
              "    }\n",
              "\n",
              "    .colab-df-convert {\n",
              "      background-color: #E8F0FE;\n",
              "      border: none;\n",
              "      border-radius: 50%;\n",
              "      cursor: pointer;\n",
              "      display: none;\n",
              "      fill: #1967D2;\n",
              "      height: 32px;\n",
              "      padding: 0 0 0 0;\n",
              "      width: 32px;\n",
              "    }\n",
              "\n",
              "    .colab-df-convert:hover {\n",
              "      background-color: #E2EBFA;\n",
              "      box-shadow: 0px 1px 2px rgba(60, 64, 67, 0.3), 0px 1px 3px 1px rgba(60, 64, 67, 0.15);\n",
              "      fill: #174EA6;\n",
              "    }\n",
              "\n",
              "    [theme=dark] .colab-df-convert {\n",
              "      background-color: #3B4455;\n",
              "      fill: #D2E3FC;\n",
              "    }\n",
              "\n",
              "    [theme=dark] .colab-df-convert:hover {\n",
              "      background-color: #434B5C;\n",
              "      box-shadow: 0px 1px 3px 1px rgba(0, 0, 0, 0.15);\n",
              "      filter: drop-shadow(0px 1px 2px rgba(0, 0, 0, 0.3));\n",
              "      fill: #FFFFFF;\n",
              "    }\n",
              "  </style>\n",
              "\n",
              "      <script>\n",
              "        const buttonEl =\n",
              "          document.querySelector('#df-5eb7f006-9fbb-47f9-9dd5-befd5ec6672c button.colab-df-convert');\n",
              "        buttonEl.style.display =\n",
              "          google.colab.kernel.accessAllowed ? 'block' : 'none';\n",
              "\n",
              "        async function convertToInteractive(key) {\n",
              "          const element = document.querySelector('#df-5eb7f006-9fbb-47f9-9dd5-befd5ec6672c');\n",
              "          const dataTable =\n",
              "            await google.colab.kernel.invokeFunction('convertToInteractive',\n",
              "                                                     [key], {});\n",
              "          if (!dataTable) return;\n",
              "\n",
              "          const docLinkHtml = 'Like what you see? Visit the ' +\n",
              "            '<a target=\"_blank\" href=https://colab.research.google.com/notebooks/data_table.ipynb>data table notebook</a>'\n",
              "            + ' to learn more about interactive tables.';\n",
              "          element.innerHTML = '';\n",
              "          dataTable['output_type'] = 'display_data';\n",
              "          await google.colab.output.renderOutput(dataTable, element);\n",
              "          const docLink = document.createElement('div');\n",
              "          docLink.innerHTML = docLinkHtml;\n",
              "          element.appendChild(docLink);\n",
              "        }\n",
              "      </script>\n",
              "    </div>\n",
              "  </div>\n",
              "  "
            ]
          },
          "metadata": {},
          "execution_count": 23
        }
      ]
    }
  ]
}