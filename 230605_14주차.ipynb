{
  "nbformat": 4,
  "nbformat_minor": 0,
  "metadata": {
    "colab": {
      "provenance": [],
      "authorship_tag": "ABX9TyNwbPDa74KjhRevHA6CMH5/",
      "include_colab_link": true
    },
    "kernelspec": {
      "name": "python3",
      "display_name": "Python 3"
    },
    "language_info": {
      "name": "python"
    }
  },
  "cells": [
    {
      "cell_type": "markdown",
      "metadata": {
        "id": "view-in-github",
        "colab_type": "text"
      },
      "source": [
        "<a href=\"https://colab.research.google.com/github/heyrimz/2023_bigdata-AI/blob/main/230605_14%EC%A3%BC%EC%B0%A8.ipynb\" target=\"_parent\"><img src=\"https://colab.research.google.com/assets/colab-badge.svg\" alt=\"Open In Colab\"/></a>"
      ]
    },
    {
      "cell_type": "code",
      "execution_count": null,
      "metadata": {
        "colab": {
          "base_uri": "https://localhost:8080/"
        },
        "id": "EJrZSgwdSTfl",
        "outputId": "401263ed-6300-40af-e110-40cec01faaa5"
      },
      "outputs": [
        {
          "output_type": "stream",
          "name": "stdout",
          "text": [
            "IQR :  6.5\n",
            "upper outlier step:  -13.0\n",
            "lower outlier step:  13.0\n",
            "lower outliers: [-100]\n",
            "upper outliers: [100]\n"
          ]
        }
      ],
      "source": [
        "import numpy as np\n",
        "\n",
        "value = np.array([-1,-2,-3,-4,-5,1,2,3,4,5,100,-100])\n",
        "Q1 = np.percentile(value,25)\n",
        "Q3 = np.percentile(value,75)\n",
        "\n",
        "IQR = Q3 - Q1\n",
        "print(\"IQR : \",IQR)\n",
        "\n",
        "outlier_step = 1.5 * IQR\n",
        "print(\"upper outlier step: \",Q1 - outlier_step)\n",
        "print(\"lower outlier step: \",Q3 + outlier_step)\n",
        "\n",
        "lower_outliers = value[value < Q1 - outlier_step]\n",
        "upper_outliers = value[value > Q3 + outlier_step]\n",
        "print(\"lower outliers:\",lower_outliers)\n",
        "print(\"upper outliers:\",upper_outliers)"
      ]
    },
    {
      "cell_type": "code",
      "source": [
        "# NA - 인식X\n",
        "# NULL - 값 자체가 빔\n",
        "\n",
        "# 결측치 포함 데이터프레임 만들기\n",
        "import numpy as np\n",
        "import pandas as pd\n",
        "\n",
        "# 결측치 정의\n",
        "i = None\n",
        "j = np.nan\n",
        "B = [[1,2],[i,j]]\n",
        "B = pd.DataFrame(B)\n",
        "print(B)"
      ],
      "metadata": {
        "colab": {
          "base_uri": "https://localhost:8080/"
        },
        "id": "IW1vJQlPTJcz",
        "outputId": "4f3a2875-937c-4e28-e980-896764f2be4a"
      },
      "execution_count": null,
      "outputs": [
        {
          "output_type": "stream",
          "name": "stdout",
          "text": [
            "     0    1\n",
            "0  1.0  2.0\n",
            "1  NaN  NaN\n"
          ]
        }
      ]
    },
    {
      "cell_type": "code",
      "source": [
        "# 다중 공선성(multi col linearity)\n",
        "# 여러개의 컬럼이 선형성이 존재하는가"
      ],
      "metadata": {
        "id": "01lqvPVRU_T-"
      },
      "execution_count": null,
      "outputs": []
    }
  ]
}